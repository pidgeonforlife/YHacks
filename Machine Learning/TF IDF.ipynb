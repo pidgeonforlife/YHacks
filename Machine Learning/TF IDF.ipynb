{
 "cells": [
  {
   "cell_type": "markdown",
   "id": "b100b2c1",
   "metadata": {},
   "source": [
    "# Recommendation System TF-IDF"
   ]
  },
  {
   "cell_type": "code",
   "execution_count": 111,
   "id": "b1ba58b8",
   "metadata": {},
   "outputs": [
    {
     "name": "stdout",
     "output_type": "stream",
     "text": [
      "Once deleted, variables cannot be recovered. Proceed (y/[n])? y\n"
     ]
    }
   ],
   "source": [
    "%reset"
   ]
  },
  {
   "cell_type": "code",
   "execution_count": 112,
   "id": "5387f3ac",
   "metadata": {},
   "outputs": [],
   "source": [
    "# import libraries\n",
    "import pandas as pd\n",
    "import numpy as np\n",
    "import re\n",
    "from sklearn.neighbors import NearestNeighbors\n",
    "from scipy.sparse import csr_matrix\n",
    "\n",
    "import spacy\n",
    "from spacy.tokenizer import Tokenizer\n",
    "from spacy.lang.en import English\n",
    "\n",
    "from sklearn.feature_extraction.text import TfidfVectorizer\n",
    "from sklearn.neighbors import NearestNeighbors\n",
    "import pickle\n",
    "from sklearn.utils import shuffle\n",
    "\n",
    "from sklearn.metrics.pairwise import linear_kernel, cosine_similarity"
   ]
  },
  {
   "cell_type": "code",
   "execution_count": 113,
   "id": "c53ea05f",
   "metadata": {},
   "outputs": [],
   "source": [
    "import os "
   ]
  },
  {
   "cell_type": "code",
   "execution_count": 114,
   "id": "53d74218",
   "metadata": {},
   "outputs": [
    {
     "data": {
      "text/plain": [
       "'C:\\\\Users\\\\Matthew Wong\\\\YHacks'"
      ]
     },
     "execution_count": 114,
     "metadata": {},
     "output_type": "execute_result"
    }
   ],
   "source": [
    "os.getcwd()"
   ]
  },
  {
   "cell_type": "markdown",
   "id": "5406d091",
   "metadata": {},
   "source": [
    "## Data Cleaning and Feature Eningeering"
   ]
  },
  {
   "cell_type": "markdown",
   "id": "5d1b1575",
   "metadata": {},
   "source": [
    "#### Dont have to run this section again"
   ]
  },
  {
   "cell_type": "code",
   "execution_count": 115,
   "id": "cf0ab527",
   "metadata": {},
   "outputs": [],
   "source": [
    "# Import data\n",
    "userbase = pd.read_csv(r\"data\\userdata.csv\")\n",
    "userbase2 = pd.read_csv(r\"data\\userdata (1).csv\")\n",
    "userbase3 = pd.read_csv(r\"data\\userdata (2).csv\")"
   ]
  },
  {
   "cell_type": "code",
   "execution_count": 116,
   "id": "be4e6493",
   "metadata": {},
   "outputs": [],
   "source": [
    "dfs = [userbase, userbase2, userbase3]\n",
    "\n",
    "user_data = pd.concat(dfs)"
   ]
  },
  {
   "cell_type": "code",
   "execution_count": 117,
   "id": "0533a056",
   "metadata": {},
   "outputs": [],
   "source": [
    "user_data = user_data.reset_index(drop=True)"
   ]
  },
  {
   "cell_type": "code",
   "execution_count": 118,
   "id": "92d811f9",
   "metadata": {},
   "outputs": [],
   "source": [
    "user_data.to_csv('user_data.csv')"
   ]
  },
  {
   "cell_type": "code",
   "execution_count": 119,
   "id": "70115adf",
   "metadata": {},
   "outputs": [],
   "source": [
    "user_data['size'] = user_data['size'].astype(str)"
   ]
  },
  {
   "cell_type": "code",
   "execution_count": 144,
   "id": "ead8b4c9",
   "metadata": {},
   "outputs": [],
   "source": [
    "user_data['NER'] = user_data['countries'].str.cat(user_data[['user identity','size']], sep=',')"
   ]
  },
  {
   "cell_type": "code",
   "execution_count": 145,
   "id": "e2354497",
   "metadata": {},
   "outputs": [
    {
     "data": {
      "text/html": [
       "<div>\n",
       "<style scoped>\n",
       "    .dataframe tbody tr th:only-of-type {\n",
       "        vertical-align: middle;\n",
       "    }\n",
       "\n",
       "    .dataframe tbody tr th {\n",
       "        vertical-align: top;\n",
       "    }\n",
       "\n",
       "    .dataframe thead th {\n",
       "        text-align: right;\n",
       "    }\n",
       "</style>\n",
       "<table border=\"1\" class=\"dataframe\">\n",
       "  <thead>\n",
       "    <tr style=\"text-align: right;\">\n",
       "      <th></th>\n",
       "      <th>countries</th>\n",
       "      <th>size</th>\n",
       "      <th>user identity</th>\n",
       "      <th>NER</th>\n",
       "    </tr>\n",
       "  </thead>\n",
       "  <tbody>\n",
       "    <tr>\n",
       "      <th>0</th>\n",
       "      <td>romania</td>\n",
       "      <td>3</td>\n",
       "      <td>refugee</td>\n",
       "      <td>romania,refugee,3</td>\n",
       "    </tr>\n",
       "    <tr>\n",
       "      <th>1</th>\n",
       "      <td>turkey</td>\n",
       "      <td>1</td>\n",
       "      <td>refugee</td>\n",
       "      <td>turkey,refugee,1</td>\n",
       "    </tr>\n",
       "    <tr>\n",
       "      <th>2</th>\n",
       "      <td>slovakia</td>\n",
       "      <td>2</td>\n",
       "      <td>support</td>\n",
       "      <td>slovakia,support,2</td>\n",
       "    </tr>\n",
       "    <tr>\n",
       "      <th>3</th>\n",
       "      <td>slovakia</td>\n",
       "      <td>1</td>\n",
       "      <td>support</td>\n",
       "      <td>slovakia,support,1</td>\n",
       "    </tr>\n",
       "    <tr>\n",
       "      <th>4</th>\n",
       "      <td>moldova</td>\n",
       "      <td>3</td>\n",
       "      <td>refugee</td>\n",
       "      <td>moldova,refugee,3</td>\n",
       "    </tr>\n",
       "    <tr>\n",
       "      <th>...</th>\n",
       "      <td>...</td>\n",
       "      <td>...</td>\n",
       "      <td>...</td>\n",
       "      <td>...</td>\n",
       "    </tr>\n",
       "    <tr>\n",
       "      <th>2995</th>\n",
       "      <td>romania</td>\n",
       "      <td>5</td>\n",
       "      <td>support</td>\n",
       "      <td>romania,support,5</td>\n",
       "    </tr>\n",
       "    <tr>\n",
       "      <th>2996</th>\n",
       "      <td>slovakia</td>\n",
       "      <td>5</td>\n",
       "      <td>support</td>\n",
       "      <td>slovakia,support,5</td>\n",
       "    </tr>\n",
       "    <tr>\n",
       "      <th>2997</th>\n",
       "      <td>slovakia</td>\n",
       "      <td>5</td>\n",
       "      <td>support</td>\n",
       "      <td>slovakia,support,5</td>\n",
       "    </tr>\n",
       "    <tr>\n",
       "      <th>2998</th>\n",
       "      <td>poland</td>\n",
       "      <td>3</td>\n",
       "      <td>refugee</td>\n",
       "      <td>poland,refugee,3</td>\n",
       "    </tr>\n",
       "    <tr>\n",
       "      <th>2999</th>\n",
       "      <td>poland</td>\n",
       "      <td>1</td>\n",
       "      <td>refugee</td>\n",
       "      <td>poland,refugee,1</td>\n",
       "    </tr>\n",
       "  </tbody>\n",
       "</table>\n",
       "<p>3000 rows × 4 columns</p>\n",
       "</div>"
      ],
      "text/plain": [
       "     countries size user identity                 NER\n",
       "0      romania    3       refugee   romania,refugee,3\n",
       "1       turkey    1       refugee    turkey,refugee,1\n",
       "2     slovakia    2       support  slovakia,support,2\n",
       "3     slovakia    1       support  slovakia,support,1\n",
       "4      moldova    3       refugee   moldova,refugee,3\n",
       "...        ...  ...           ...                 ...\n",
       "2995   romania    5       support   romania,support,5\n",
       "2996  slovakia    5       support  slovakia,support,5\n",
       "2997  slovakia    5       support  slovakia,support,5\n",
       "2998    poland    3       refugee    poland,refugee,3\n",
       "2999    poland    1       refugee    poland,refugee,1\n",
       "\n",
       "[3000 rows x 4 columns]"
      ]
     },
     "execution_count": 145,
     "metadata": {},
     "output_type": "execute_result"
    }
   ],
   "source": [
    "user_data"
   ]
  },
  {
   "cell_type": "markdown",
   "id": "7aafe743",
   "metadata": {},
   "source": [
    "## FEATURE EXTRACTION via tfidf vectorizer\n",
    "### Create a data-term matrix (vocabulary)"
   ]
  },
  {
   "cell_type": "code",
   "execution_count": 164,
   "id": "8ea21ddd",
   "metadata": {},
   "outputs": [],
   "source": [
    "# Instantiate vecorizer object - call tokenize\n",
    "tf_model = TfidfVectorizer(max_features=200,max_df=0.25,min_df=0.01,stop_words='english')"
   ]
  },
  {
   "cell_type": "code",
   "execution_count": 165,
   "id": "4f923890",
   "metadata": {},
   "outputs": [],
   "source": [
    "# create corpus (categories) used for the TF-IDF\n",
    "corpus = user_data['NER']"
   ]
  },
  {
   "cell_type": "code",
   "execution_count": 166,
   "id": "468a7798",
   "metadata": {},
   "outputs": [
    {
     "data": {
      "text/plain": [
       "(3000, 7)"
      ]
     },
     "execution_count": 166,
     "metadata": {},
     "output_type": "execute_result"
    }
   ],
   "source": [
    "tf_matrix = tf_model.fit_transform(corpus)\n",
    "tf_matrix.shape"
   ]
  },
  {
   "cell_type": "code",
   "execution_count": 167,
   "id": "5beb55af",
   "metadata": {},
   "outputs": [
    {
     "name": "stdout",
     "output_type": "stream",
     "text": [
      "The shape of the matrix is: (3000, 7)\n"
     ]
    },
    {
     "data": {
      "text/html": [
       "<div>\n",
       "<style scoped>\n",
       "    .dataframe tbody tr th:only-of-type {\n",
       "        vertical-align: middle;\n",
       "    }\n",
       "\n",
       "    .dataframe tbody tr th {\n",
       "        vertical-align: top;\n",
       "    }\n",
       "\n",
       "    .dataframe thead th {\n",
       "        text-align: right;\n",
       "    }\n",
       "</style>\n",
       "<table border=\"1\" class=\"dataframe\">\n",
       "  <thead>\n",
       "    <tr style=\"text-align: right;\">\n",
       "      <th></th>\n",
       "      <th>hungary</th>\n",
       "      <th>moldova</th>\n",
       "      <th>poland</th>\n",
       "      <th>romania</th>\n",
       "      <th>slovakia</th>\n",
       "      <th>turkey</th>\n",
       "      <th>ukraine</th>\n",
       "    </tr>\n",
       "  </thead>\n",
       "  <tbody>\n",
       "    <tr>\n",
       "      <th>0</th>\n",
       "      <td>0.0</td>\n",
       "      <td>0.0</td>\n",
       "      <td>0.0</td>\n",
       "      <td>1.0</td>\n",
       "      <td>0.0</td>\n",
       "      <td>0.0</td>\n",
       "      <td>0.0</td>\n",
       "    </tr>\n",
       "    <tr>\n",
       "      <th>1</th>\n",
       "      <td>0.0</td>\n",
       "      <td>0.0</td>\n",
       "      <td>0.0</td>\n",
       "      <td>0.0</td>\n",
       "      <td>0.0</td>\n",
       "      <td>1.0</td>\n",
       "      <td>0.0</td>\n",
       "    </tr>\n",
       "    <tr>\n",
       "      <th>2</th>\n",
       "      <td>0.0</td>\n",
       "      <td>0.0</td>\n",
       "      <td>0.0</td>\n",
       "      <td>0.0</td>\n",
       "      <td>1.0</td>\n",
       "      <td>0.0</td>\n",
       "      <td>0.0</td>\n",
       "    </tr>\n",
       "    <tr>\n",
       "      <th>3</th>\n",
       "      <td>0.0</td>\n",
       "      <td>0.0</td>\n",
       "      <td>0.0</td>\n",
       "      <td>0.0</td>\n",
       "      <td>1.0</td>\n",
       "      <td>0.0</td>\n",
       "      <td>0.0</td>\n",
       "    </tr>\n",
       "    <tr>\n",
       "      <th>4</th>\n",
       "      <td>0.0</td>\n",
       "      <td>1.0</td>\n",
       "      <td>0.0</td>\n",
       "      <td>0.0</td>\n",
       "      <td>0.0</td>\n",
       "      <td>0.0</td>\n",
       "      <td>0.0</td>\n",
       "    </tr>\n",
       "  </tbody>\n",
       "</table>\n",
       "</div>"
      ],
      "text/plain": [
       "   hungary  moldova  poland  romania  slovakia  turkey  ukraine\n",
       "0      0.0      0.0     0.0      1.0       0.0     0.0      0.0\n",
       "1      0.0      0.0     0.0      0.0       0.0     1.0      0.0\n",
       "2      0.0      0.0     0.0      0.0       1.0     0.0      0.0\n",
       "3      0.0      0.0     0.0      0.0       1.0     0.0      0.0\n",
       "4      0.0      1.0     0.0      0.0       0.0     0.0      0.0"
      ]
     },
     "metadata": {},
     "output_type": "display_data"
    }
   ],
   "source": [
    "tf_matrix = tf_model.fit_transform(corpus).todense()\n",
    "print('The shape of the matrix is:', tf_matrix.shape)\n",
    "tf_df = pd.DataFrame(tf_matrix)\n",
    "tf_df.columns = sorted(tf_model.vocabulary_)\n",
    "display(tf_df.head())"
   ]
  },
  {
   "cell_type": "code",
   "execution_count": 169,
   "id": "2e8e1e01",
   "metadata": {},
   "outputs": [],
   "source": [
    "# Get cosine similarity of the matrix\n",
    "cosine_sim = cosine_similarity(tf_matrix, tf_matrix)\n",
    "\n",
    "# need to run again for a very small portion of the matrix"
   ]
  },
  {
   "cell_type": "code",
   "execution_count": 226,
   "id": "23462e34",
   "metadata": {},
   "outputs": [
    {
     "data": {
      "text/plain": [
       "NearestNeighbors(algorithm='brute', n_neighbors=10)"
      ]
     },
     "execution_count": 226,
     "metadata": {},
     "output_type": "execute_result"
    }
   ],
   "source": [
    "# Fit on TF-IDF Vectors\n",
    "nn = NearestNeighbors(n_neighbors=10, algorithm='brute')\n",
    "nn.fit(tf_matrix)"
   ]
  },
  {
   "cell_type": "code",
   "execution_count": 227,
   "id": "be89e57b",
   "metadata": {},
   "outputs": [
    {
     "name": "stdout",
     "output_type": "stream",
     "text": [
      "<class 'pandas.core.series.Series'>\n",
      "<class 'numpy.ndarray'>\n"
     ]
    }
   ],
   "source": [
    "# Construct a reverse mapping of indices and post titles, and drop duplicate titles if any\n",
    "indices = pd.Series(user_data.index, index=user_data['NER'])#.drop_duplicates()\n",
    "print(type(indices))\n",
    "print(type(cosine_sim))"
   ]
  },
  {
   "cell_type": "code",
   "execution_count": 228,
   "id": "b1a82bdc",
   "metadata": {},
   "outputs": [],
   "source": [
    "# Pickle the dtm and tf for use in the prediction\n",
    "pickle.dump(tf_matrix, open('tf_matrix.pkl', 'wb'))\n",
    "pickle.dump(tf_model, open('tf_model.pkl', 'wb'))\n",
    "indices.to_pickle('indices.pkl')\n",
    "np.save(\"cosine_sim.npy\", cosine_sim)"
   ]
  },
  {
   "cell_type": "markdown",
   "id": "5c2e3f82",
   "metadata": {},
   "source": [
    "### Test"
   ]
  },
  {
   "cell_type": "code",
   "execution_count": 244,
   "id": "3d2f1d92",
   "metadata": {},
   "outputs": [],
   "source": [
    "# Create the test case\n",
    "#ideal_category = ['romania','support','1']\n",
    "ideal_category = ['poland','support','5']\n",
    "\n",
    "new = tf_model.transform(ideal_category)\n",
    "results = nn.kneighbors(new.todense())"
   ]
  },
  {
   "cell_type": "code",
   "execution_count": 245,
   "id": "09276419",
   "metadata": {},
   "outputs": [
    {
     "data": {
      "text/plain": [
       "(array([[0., 0., 0., 0., 0., 0., 0., 0., 0., 0.],\n",
       "        [1., 1., 1., 1., 1., 1., 1., 1., 1., 1.],\n",
       "        [1., 1., 1., 1., 1., 1., 1., 1., 1., 1.]]),\n",
       " array([[ 531, 2547, 2567, 2563, 1249, 2554, 1244,  527, 2568, 2548],\n",
       "        [1999, 1997, 2001, 2000, 2003, 1998, 1996, 2005, 1995, 2002],\n",
       "        [1999, 1997, 2001, 2000, 2003, 1998, 1996, 2005, 1995, 2002]],\n",
       "       dtype=int64))"
      ]
     },
     "execution_count": 245,
     "metadata": {},
     "output_type": "execute_result"
    }
   ],
   "source": [
    "results"
   ]
  },
  {
   "cell_type": "code",
   "execution_count": 246,
   "id": "89033e9b",
   "metadata": {},
   "outputs": [
    {
     "data": {
      "text/plain": [
       "531    poland,support,1\n",
       "Name: NER, dtype: object"
      ]
     },
     "execution_count": 246,
     "metadata": {},
     "output_type": "execute_result"
    }
   ],
   "source": [
    "# displays the category of the first value of the first array \n",
    "user_data['NER'][[results[1][0][0]]]"
   ]
  },
  {
   "cell_type": "code",
   "execution_count": 247,
   "id": "3681c4a8",
   "metadata": {},
   "outputs": [],
   "source": [
    "def give_recommended_TF(ideal_categories):\n",
    "    ideal_category = [ideal_categories]\n",
    "    new = tf_model.transform(ideal_category)\n",
    "    results = nn.kneighbors(new.todense())\n",
    "    display(user_data['NER'][[results[1][0][0]]])\n",
    "    display(results)"
   ]
  },
  {
   "cell_type": "code",
   "execution_count": 248,
   "id": "d9f1f671",
   "metadata": {},
   "outputs": [
    {
     "data": {
      "text/plain": [
       "1929    ukraine,refugee,5\n",
       "Name: NER, dtype: object"
      ]
     },
     "metadata": {},
     "output_type": "display_data"
    },
    {
     "data": {
      "text/plain": [
       "(array([[0., 0., 0., 0., 0., 0., 0., 0., 0., 0.]]),\n",
       " array([[1929,  301, 2738, 1032,  512, 1388,  510, 1801,  303, 2743]],\n",
       "       dtype=int64))"
      ]
     },
     "metadata": {},
     "output_type": "display_data"
    }
   ],
   "source": [
    "give_recommended_TF('ukraine,refugee,1')"
   ]
  }
 ],
 "metadata": {
  "kernelspec": {
   "display_name": "Python 3",
   "language": "python",
   "name": "python3"
  },
  "language_info": {
   "codemirror_mode": {
    "name": "ipython",
    "version": 3
   },
   "file_extension": ".py",
   "mimetype": "text/x-python",
   "name": "python",
   "nbconvert_exporter": "python",
   "pygments_lexer": "ipython3",
   "version": "3.8.8"
  }
 },
 "nbformat": 4,
 "nbformat_minor": 5
}
